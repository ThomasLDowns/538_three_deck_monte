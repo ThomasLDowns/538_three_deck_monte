{
 "cells": [
  {
   "cell_type": "markdown",
   "metadata": {},
   "source": [
    "You meet someone on a street corner who’s standing at a table on which there are three decks of playing cards. He tells you his name is “Three Deck Monte.” Knowing this will surely end well, you inspect the decks. Each deck contains 12 cards …\n",
    "<br><br>\n",
    "Red Deck: four aces, four 9s, four 7s<br>\n",
    "Blue Deck: four kings, four jacks, four 6s<br>\n",
    "Black Deck: four queens, four 10s, four 8s<br><br>\n",
    "The man offers you a bet: You pick one of the decks, he then picks a different one. You both shuffle your decks, and you compete in a short game similar to War. You each turn over cards one at a time, the one with a higher card wins that turn (aces are high), and the first to win five turns wins the bet. (There can’t be ties, as no deck contains any of the same cards as any other deck.)\n",
    "\n",
    "Should you take the bet? After all, you can pick any of the decks, which seems like it should give you an advantage against the dealer. If you take the bet, and the dealer picks the best possible counter deck each time, how often will you win?"
   ]
  },
  {
   "cell_type": "code",
   "execution_count": 2,
   "metadata": {},
   "outputs": [],
   "source": [
    "from random import shuffle"
   ]
  },
  {
   "cell_type": "code",
   "execution_count": 21,
   "metadata": {
    "scrolled": true
   },
   "outputs": [],
   "source": [
    "red = [14, 14, 14, 14, 9, 9, 9, 9, 7, 7, 7, 7]\n",
    "blue = [13, 13, 13, 13, 11, 11, 11, 11, 6, 6, 6, 6]\n",
    "black = [12, 12, 12, 12, 10, 10, 10, 10, 8, 8, 8, 8]\n",
    "\n",
    "def test_decks(num_runs, deck1, deck2):\n",
    "    wins = [0, 0]\n",
    "    for i in range(num_runs):\n",
    "        shuffle(deck1)\n",
    "        shuffle(deck2)\n",
    "        x, y, j = 0, 0, 0\n",
    "        while (x < 5) & (y < 5):\n",
    "            if deck1[j] > deck2[j]:\n",
    "                x += 1\n",
    "            else:\n",
    "                y += 1\n",
    "            j += 1\n",
    "        if x == 5:\n",
    "            wins[0] += 1\n",
    "        else:\n",
    "            wins[1] += 1\n",
    "    print(f\"deck 1: {wins[0]}, deck 2: {wins[1]}\")\n",
    "            "
   ]
  },
  {
   "cell_type": "code",
   "execution_count": 25,
   "metadata": {},
   "outputs": [
    {
     "name": "stdout",
     "output_type": "stream",
     "text": [
      "deck 1: 70195, deck 2: 29805\n"
     ]
    }
   ],
   "source": [
    "test_decks(100000, red, blue)"
   ]
  },
  {
   "cell_type": "code",
   "execution_count": 26,
   "metadata": {},
   "outputs": [
    {
     "name": "stdout",
     "output_type": "stream",
     "text": [
      "deck 1: 69975, deck 2: 30025\n"
     ]
    }
   ],
   "source": [
    "test_decks(100000, blue, black)"
   ]
  },
  {
   "cell_type": "code",
   "execution_count": 27,
   "metadata": {},
   "outputs": [
    {
     "name": "stdout",
     "output_type": "stream",
     "text": [
      "deck 1: 70180, deck 2: 29820\n"
     ]
    }
   ],
   "source": [
    "test_decks(100000, black, red)"
   ]
  }
 ],
 "metadata": {
  "kernelspec": {
   "display_name": "Python 3",
   "language": "python",
   "name": "python3"
  },
  "language_info": {
   "codemirror_mode": {
    "name": "ipython",
    "version": 3
   },
   "file_extension": ".py",
   "mimetype": "text/x-python",
   "name": "python",
   "nbconvert_exporter": "python",
   "pygments_lexer": "ipython3",
   "version": "3.7.1"
  }
 },
 "nbformat": 4,
 "nbformat_minor": 2
}
